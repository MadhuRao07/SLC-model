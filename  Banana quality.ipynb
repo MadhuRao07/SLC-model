{
 "cells": [
  {
   "cell_type": "code",
   "execution_count": 30,
   "id": "dffc19eb",
   "metadata": {},
   "outputs": [],
   "source": [
    "import numpy as np\n",
    "import pandas as pd\n",
    "import seaborn as sns\n",
    "import matplotlib.pyplot as plt\n",
    "import warnings\n",
    "warnings.filterwarnings('ignore')"
   ]
  },
  {
   "cell_type": "code",
   "execution_count": 31,
   "id": "37bff807",
   "metadata": {},
   "outputs": [
    {
     "data": {
      "text/html": [
       "<div>\n",
       "<style scoped>\n",
       "    .dataframe tbody tr th:only-of-type {\n",
       "        vertical-align: middle;\n",
       "    }\n",
       "\n",
       "    .dataframe tbody tr th {\n",
       "        vertical-align: top;\n",
       "    }\n",
       "\n",
       "    .dataframe thead th {\n",
       "        text-align: right;\n",
       "    }\n",
       "</style>\n",
       "<table border=\"1\" class=\"dataframe\">\n",
       "  <thead>\n",
       "    <tr style=\"text-align: right;\">\n",
       "      <th></th>\n",
       "      <th>Size</th>\n",
       "      <th>Weight</th>\n",
       "      <th>Sweetness</th>\n",
       "      <th>Softness</th>\n",
       "      <th>HarvestTime</th>\n",
       "      <th>Ripeness</th>\n",
       "      <th>Acidity</th>\n",
       "      <th>Quality</th>\n",
       "    </tr>\n",
       "  </thead>\n",
       "  <tbody>\n",
       "    <tr>\n",
       "      <th>0</th>\n",
       "      <td>-1.924968</td>\n",
       "      <td>0.468078</td>\n",
       "      <td>3.077832</td>\n",
       "      <td>-1.472177</td>\n",
       "      <td>0.294799</td>\n",
       "      <td>2.435570</td>\n",
       "      <td>0.271290</td>\n",
       "      <td>Good</td>\n",
       "    </tr>\n",
       "    <tr>\n",
       "      <th>1</th>\n",
       "      <td>-2.409751</td>\n",
       "      <td>0.486870</td>\n",
       "      <td>0.346921</td>\n",
       "      <td>-2.495099</td>\n",
       "      <td>-0.892213</td>\n",
       "      <td>2.067549</td>\n",
       "      <td>0.307325</td>\n",
       "      <td>Good</td>\n",
       "    </tr>\n",
       "    <tr>\n",
       "      <th>2</th>\n",
       "      <td>-0.357607</td>\n",
       "      <td>1.483176</td>\n",
       "      <td>1.568452</td>\n",
       "      <td>-2.645145</td>\n",
       "      <td>-0.647267</td>\n",
       "      <td>3.090643</td>\n",
       "      <td>1.427322</td>\n",
       "      <td>Good</td>\n",
       "    </tr>\n",
       "    <tr>\n",
       "      <th>3</th>\n",
       "      <td>-0.868524</td>\n",
       "      <td>1.566201</td>\n",
       "      <td>1.889605</td>\n",
       "      <td>-1.273761</td>\n",
       "      <td>-1.006278</td>\n",
       "      <td>1.873001</td>\n",
       "      <td>0.477862</td>\n",
       "      <td>Good</td>\n",
       "    </tr>\n",
       "    <tr>\n",
       "      <th>4</th>\n",
       "      <td>0.651825</td>\n",
       "      <td>1.319199</td>\n",
       "      <td>-0.022459</td>\n",
       "      <td>-1.209709</td>\n",
       "      <td>-1.430692</td>\n",
       "      <td>1.078345</td>\n",
       "      <td>2.812442</td>\n",
       "      <td>Good</td>\n",
       "    </tr>\n",
       "  </tbody>\n",
       "</table>\n",
       "</div>"
      ],
      "text/plain": [
       "       Size    Weight  Sweetness  Softness  HarvestTime  Ripeness   Acidity  \\\n",
       "0 -1.924968  0.468078   3.077832 -1.472177     0.294799  2.435570  0.271290   \n",
       "1 -2.409751  0.486870   0.346921 -2.495099    -0.892213  2.067549  0.307325   \n",
       "2 -0.357607  1.483176   1.568452 -2.645145    -0.647267  3.090643  1.427322   \n",
       "3 -0.868524  1.566201   1.889605 -1.273761    -1.006278  1.873001  0.477862   \n",
       "4  0.651825  1.319199  -0.022459 -1.209709    -1.430692  1.078345  2.812442   \n",
       "\n",
       "  Quality  \n",
       "0    Good  \n",
       "1    Good  \n",
       "2    Good  \n",
       "3    Good  \n",
       "4    Good  "
      ]
     },
     "execution_count": 31,
     "metadata": {},
     "output_type": "execute_result"
    }
   ],
   "source": [
    "data = pd.read_csv('banana_quality.csv')\n",
    "data.head()"
   ]
  },
  {
   "cell_type": "code",
   "execution_count": 32,
   "id": "8aaf3065",
   "metadata": {},
   "outputs": [
    {
     "data": {
      "text/plain": [
       "(8000, 8)"
      ]
     },
     "execution_count": 32,
     "metadata": {},
     "output_type": "execute_result"
    }
   ],
   "source": [
    "data.shape"
   ]
  },
  {
   "cell_type": "code",
   "execution_count": 33,
   "id": "0a2982d1",
   "metadata": {},
   "outputs": [
    {
     "name": "stdout",
     "output_type": "stream",
     "text": [
      "No. of rows : 8000\n",
      "No. of columns: 8\n"
     ]
    }
   ],
   "source": [
    "print('No. of rows :',data.shape[0])\n",
    "print('No. of columns:',data.shape[1])"
   ]
  },
  {
   "cell_type": "code",
   "execution_count": 34,
   "id": "308cfd92",
   "metadata": {},
   "outputs": [
    {
     "name": "stdout",
     "output_type": "stream",
     "text": [
      "<class 'pandas.core.frame.DataFrame'>\n",
      "RangeIndex: 8000 entries, 0 to 7999\n",
      "Data columns (total 8 columns):\n",
      " #   Column       Non-Null Count  Dtype  \n",
      "---  ------       --------------  -----  \n",
      " 0   Size         8000 non-null   float64\n",
      " 1   Weight       8000 non-null   float64\n",
      " 2   Sweetness    8000 non-null   float64\n",
      " 3   Softness     8000 non-null   float64\n",
      " 4   HarvestTime  8000 non-null   float64\n",
      " 5   Ripeness     8000 non-null   float64\n",
      " 6   Acidity      8000 non-null   float64\n",
      " 7   Quality      8000 non-null   object \n",
      "dtypes: float64(7), object(1)\n",
      "memory usage: 500.1+ KB\n"
     ]
    }
   ],
   "source": [
    "data.info()"
   ]
  },
  {
   "cell_type": "markdown",
   "id": "033103e1",
   "metadata": {},
   "source": [
    "All the features are numeric except the target variable."
   ]
  },
  {
   "cell_type": "code",
   "execution_count": 35,
   "id": "a913f5c9",
   "metadata": {},
   "outputs": [
    {
     "data": {
      "text/html": [
       "<div>\n",
       "<style scoped>\n",
       "    .dataframe tbody tr th:only-of-type {\n",
       "        vertical-align: middle;\n",
       "    }\n",
       "\n",
       "    .dataframe tbody tr th {\n",
       "        vertical-align: top;\n",
       "    }\n",
       "\n",
       "    .dataframe thead th {\n",
       "        text-align: right;\n",
       "    }\n",
       "</style>\n",
       "<table border=\"1\" class=\"dataframe\">\n",
       "  <thead>\n",
       "    <tr style=\"text-align: right;\">\n",
       "      <th></th>\n",
       "      <th>Size</th>\n",
       "      <th>Weight</th>\n",
       "      <th>Sweetness</th>\n",
       "      <th>Softness</th>\n",
       "      <th>HarvestTime</th>\n",
       "      <th>Ripeness</th>\n",
       "      <th>Acidity</th>\n",
       "    </tr>\n",
       "  </thead>\n",
       "  <tbody>\n",
       "    <tr>\n",
       "      <th>count</th>\n",
       "      <td>8000.000000</td>\n",
       "      <td>8000.000000</td>\n",
       "      <td>8000.000000</td>\n",
       "      <td>8000.000000</td>\n",
       "      <td>8000.000000</td>\n",
       "      <td>8000.000000</td>\n",
       "      <td>8000.000000</td>\n",
       "    </tr>\n",
       "    <tr>\n",
       "      <th>mean</th>\n",
       "      <td>-0.747802</td>\n",
       "      <td>-0.761019</td>\n",
       "      <td>-0.770224</td>\n",
       "      <td>-0.014441</td>\n",
       "      <td>-0.751288</td>\n",
       "      <td>0.781098</td>\n",
       "      <td>0.008725</td>\n",
       "    </tr>\n",
       "    <tr>\n",
       "      <th>std</th>\n",
       "      <td>2.136023</td>\n",
       "      <td>2.015934</td>\n",
       "      <td>1.948455</td>\n",
       "      <td>2.065216</td>\n",
       "      <td>1.996661</td>\n",
       "      <td>2.114289</td>\n",
       "      <td>2.293467</td>\n",
       "    </tr>\n",
       "    <tr>\n",
       "      <th>min</th>\n",
       "      <td>-7.998074</td>\n",
       "      <td>-8.283002</td>\n",
       "      <td>-6.434022</td>\n",
       "      <td>-6.959320</td>\n",
       "      <td>-7.570008</td>\n",
       "      <td>-7.423155</td>\n",
       "      <td>-8.226977</td>\n",
       "    </tr>\n",
       "    <tr>\n",
       "      <th>25%</th>\n",
       "      <td>-2.277651</td>\n",
       "      <td>-2.223574</td>\n",
       "      <td>-2.107329</td>\n",
       "      <td>-1.590458</td>\n",
       "      <td>-2.120659</td>\n",
       "      <td>-0.574226</td>\n",
       "      <td>-1.629450</td>\n",
       "    </tr>\n",
       "    <tr>\n",
       "      <th>50%</th>\n",
       "      <td>-0.897514</td>\n",
       "      <td>-0.868659</td>\n",
       "      <td>-1.020673</td>\n",
       "      <td>0.202644</td>\n",
       "      <td>-0.934192</td>\n",
       "      <td>0.964952</td>\n",
       "      <td>0.098735</td>\n",
       "    </tr>\n",
       "    <tr>\n",
       "      <th>75%</th>\n",
       "      <td>0.654216</td>\n",
       "      <td>0.775491</td>\n",
       "      <td>0.311048</td>\n",
       "      <td>1.547120</td>\n",
       "      <td>0.507326</td>\n",
       "      <td>2.261650</td>\n",
       "      <td>1.682063</td>\n",
       "    </tr>\n",
       "    <tr>\n",
       "      <th>max</th>\n",
       "      <td>7.970800</td>\n",
       "      <td>5.679692</td>\n",
       "      <td>7.539374</td>\n",
       "      <td>8.241555</td>\n",
       "      <td>6.293280</td>\n",
       "      <td>7.249034</td>\n",
       "      <td>7.411633</td>\n",
       "    </tr>\n",
       "  </tbody>\n",
       "</table>\n",
       "</div>"
      ],
      "text/plain": [
       "              Size       Weight    Sweetness     Softness  HarvestTime  \\\n",
       "count  8000.000000  8000.000000  8000.000000  8000.000000  8000.000000   \n",
       "mean     -0.747802    -0.761019    -0.770224    -0.014441    -0.751288   \n",
       "std       2.136023     2.015934     1.948455     2.065216     1.996661   \n",
       "min      -7.998074    -8.283002    -6.434022    -6.959320    -7.570008   \n",
       "25%      -2.277651    -2.223574    -2.107329    -1.590458    -2.120659   \n",
       "50%      -0.897514    -0.868659    -1.020673     0.202644    -0.934192   \n",
       "75%       0.654216     0.775491     0.311048     1.547120     0.507326   \n",
       "max       7.970800     5.679692     7.539374     8.241555     6.293280   \n",
       "\n",
       "          Ripeness      Acidity  \n",
       "count  8000.000000  8000.000000  \n",
       "mean      0.781098     0.008725  \n",
       "std       2.114289     2.293467  \n",
       "min      -7.423155    -8.226977  \n",
       "25%      -0.574226    -1.629450  \n",
       "50%       0.964952     0.098735  \n",
       "75%       2.261650     1.682063  \n",
       "max       7.249034     7.411633  "
      ]
     },
     "execution_count": 35,
     "metadata": {},
     "output_type": "execute_result"
    }
   ],
   "source": [
    "# 5 point summary\n",
    "data.describe()"
   ]
  },
  {
   "cell_type": "code",
   "execution_count": 36,
   "id": "59517a7e",
   "metadata": {},
   "outputs": [
    {
     "data": {
      "text/plain": [
       "Size           0\n",
       "Weight         0\n",
       "Sweetness      0\n",
       "Softness       0\n",
       "HarvestTime    0\n",
       "Ripeness       0\n",
       "Acidity        0\n",
       "Quality        0\n",
       "dtype: int64"
      ]
     },
     "execution_count": 36,
     "metadata": {},
     "output_type": "execute_result"
    }
   ],
   "source": [
    "# missing values\n",
    "data.isnull().sum()"
   ]
  },
  {
   "cell_type": "markdown",
   "id": "68aa54ad",
   "metadata": {},
   "source": [
    "There are no missing values."
   ]
  },
  {
   "cell_type": "code",
   "execution_count": 37,
   "id": "b9092e3f",
   "metadata": {},
   "outputs": [
    {
     "data": {
      "text/plain": [
       "Good    4006\n",
       "Bad     3994\n",
       "Name: Quality, dtype: int64"
      ]
     },
     "execution_count": 37,
     "metadata": {},
     "output_type": "execute_result"
    }
   ],
   "source": [
    "data.Quality.value_counts()"
   ]
  },
  {
   "cell_type": "markdown",
   "id": "78aae1b6",
   "metadata": {},
   "source": [
    "Classes are balanced."
   ]
  },
  {
   "cell_type": "code",
   "execution_count": 38,
   "id": "2fa782d2",
   "metadata": {},
   "outputs": [],
   "source": [
    "num_col = data.select_dtypes(include=np.number)"
   ]
  },
  {
   "cell_type": "code",
   "execution_count": 39,
   "id": "75651344",
   "metadata": {},
   "outputs": [
    {
     "data": {
      "image/png": "[encoded data removed]",
      "text/plain": [
       "<Figure size 1500x800 with 7 Axes>"
      ]
     },
     "metadata": {},
     "output_type": "display_data"
    }
   ],
   "source": [
    "# outliers\n",
    "plt.figure(figsize=(15,8))\n",
    "t=1\n",
    "for i in num_col:\n",
    "    plt.subplot(4,2,t)\n",
    "    sns.boxplot(x =data[i])\n",
    "    t+=1\n",
    "plt.tight_layout()\n",
    "plt.show()"
   ]
  },
  {
   "cell_type": "code",
   "execution_count": 40,
   "id": "a8d005a8",
   "metadata": {},
   "outputs": [],
   "source": [
    "# remove the outliers\n",
    "q3 = num_col.quantile(0.75)\n",
    "q1 = num_col.quantile(0.25)\n",
    "\n",
    "iqr = q3 -q1\n",
    "\n",
    "ul = q3+iqr*1.5\n",
    "ll = q1 -iqr*1.5\n",
    "\n",
    "data = data[~((data>ul) |(data<ll)).any(axis=1)]"
   ]
  },
  {
   "cell_type": "code",
   "execution_count": 41,
   "id": "0d3a2d87",
   "metadata": {},
   "outputs": [
    {
     "data": {
      "image/png": "[encoded data removed]",
      "text/plain": [
       "<Figure size 1500x800 with 7 Axes>"
      ]
     },
     "metadata": {},
     "output_type": "display_data"
    }
   ],
   "source": [
    "plt.figure(figsize=(15,8))\n",
    "t=1\n",
    "for i in num_col:\n",
    "    plt.subplot(4,2,t)\n",
    "    sns.boxplot(x =data[i])\n",
    "    t+=1\n",
    "plt.tight_layout()\n",
    "plt.show()"
   ]
  },
  {
   "cell_type": "code",
   "execution_count": 42,
   "id": "6f9d9a0a",
   "metadata": {},
   "outputs": [
    {
     "data": {
      "text/plain": [
       "<Axes: >"
      ]
     },
     "execution_count": 42,
     "metadata": {},
     "output_type": "execute_result"
    },
    {
     "data": {
      "image/png": "[encoded data removed]",
      "text/plain": [
       "<Figure size 640x480 with 2 Axes>"
      ]
     },
     "metadata": {},
     "output_type": "display_data"
    }
   ],
   "source": [
    "# correlation plot\n",
    "sns.heatmap(data.corr(),annot=True,vmax=1,vmin=-1)"
   ]
  },
  {
   "cell_type": "code",
   "execution_count": 43,
   "id": "de7d92ec",
   "metadata": {},
   "outputs": [],
   "source": [
    "data['Quality'] = data['Quality'].map({'Good':1,'Bad':0})"
   ]
  },
  {
   "cell_type": "code",
   "execution_count": 47,
   "id": "3e3c8443",
   "metadata": {},
   "outputs": [],
   "source": [
    "from sklearn.model_selection import train_test_split\n",
    "import statsmodels.api as sma"
   ]
  },
  {
   "cell_type": "code",
   "execution_count": 46,
   "id": "927eaa26",
   "metadata": {},
   "outputs": [],
   "source": [
    "x = data.drop(columns=['Quality'])\n",
    "y = data.Quality"
   ]
  },
  {
   "cell_type": "code",
   "execution_count": 48,
   "id": "8a73c65a",
   "metadata": {},
   "outputs": [],
   "source": [
    "x_train,x_test,y_train,y_test = train_test_split(x,y,train_size=0.70,random_state=1)"
   ]
  },
  {
   "cell_type": "code",
   "execution_count": 49,
   "id": "b3f023dc",
   "metadata": {},
   "outputs": [
    {
     "data": {
      "text/plain": [
       "((5351, 7), (2294, 7), (5351,), (2294,))"
      ]
     },
     "execution_count": 49,
     "metadata": {},
     "output_type": "execute_result"
    }
   ],
   "source": [
    "x_train.shape,x_test.shape,y_train.shape,y_test.shape"
   ]
  },
  {
   "cell_type": "code",
   "execution_count": 50,
   "id": "e6830cbb",
   "metadata": {},
   "outputs": [
    {
     "data": {
      "text/plain": [
       "0    0.512623\n",
       "1    0.487377\n",
       "Name: Quality, dtype: float64"
      ]
     },
     "execution_count": 50,
     "metadata": {},
     "output_type": "execute_result"
    }
   ],
   "source": [
    "y.value_counts(normalize=True)"
   ]
  },
  {
   "cell_type": "code",
   "execution_count": 51,
   "id": "17b09e92",
   "metadata": {},
   "outputs": [
    {
     "data": {
      "text/plain": [
       "0    0.510933\n",
       "1    0.489067\n",
       "Name: Quality, dtype: float64"
      ]
     },
     "execution_count": 51,
     "metadata": {},
     "output_type": "execute_result"
    }
   ],
   "source": [
    "y_train.value_counts(normalize=True)"
   ]
  },
  {
   "cell_type": "code",
   "execution_count": 53,
   "id": "dc5f245b",
   "metadata": {},
   "outputs": [
    {
     "data": {
      "text/plain": [
       "0    0.516565\n",
       "1    0.483435\n",
       "Name: Quality, dtype: float64"
      ]
     },
     "execution_count": 53,
     "metadata": {},
     "output_type": "execute_result"
    }
   ],
   "source": [
    "y_test.value_counts(normalize=True)"
   ]
  },
  {
   "cell_type": "code",
   "execution_count": 54,
   "id": "4470a7dc",
   "metadata": {},
   "outputs": [],
   "source": [
    "import  scipy.stats as stats"
   ]
  },
  {
   "cell_type": "code",
   "execution_count": 57,
   "id": "a69164c3",
   "metadata": {},
   "outputs": [],
   "source": [
    "observed = y_test.value_counts(normalize=True).values\n",
    "expected = y.value_counts(normalize=True).values"
   ]
  },
  {
   "cell_type": "code",
   "execution_count": 58,
   "id": "ca2cc7de",
   "metadata": {},
   "outputs": [
    {
     "data": {
      "text/plain": [
       "Power_divergenceResult(statistic=6.220728488043797e-05, pvalue=0.9937070224562262)"
      ]
     },
     "execution_count": 58,
     "metadata": {},
     "output_type": "execute_result"
    }
   ],
   "source": [
    "stats.chisquare(observed,expected)"
   ]
  },
  {
   "cell_type": "code",
   "execution_count": 59,
   "id": "8b649222",
   "metadata": {},
   "outputs": [],
   "source": [
    "observed = y_train.value_counts(normalize=True).values\n",
    "expected = y.value_counts(normalize=True).values"
   ]
  },
  {
   "cell_type": "code",
   "execution_count": 61,
   "id": "2fb59f6c",
   "metadata": {},
   "outputs": [
    {
     "data": {
      "text/plain": [
       "Power_divergenceResult(statistic=1.143112503647239e-05, pvalue=0.9973023616829657)"
      ]
     },
     "execution_count": 61,
     "metadata": {},
     "output_type": "execute_result"
    }
   ],
   "source": [
    "# Ho: The distribution is same\n",
    "# Ha: The distribution is not same\n",
    "stats.chisquare(expected,observed)"
   ]
  },
  {
   "cell_type": "code",
   "execution_count": 63,
   "id": "829bb9f7",
   "metadata": {},
   "outputs": [
    {
     "name": "stdout",
     "output_type": "stream",
     "text": [
      "Optimization terminated successfully.\n",
      "         Current function value: 0.291736\n",
      "         Iterations 8\n"
     ]
    },
    {
     "data": {
      "text/html": [
       "<table class=\"simpletable\">\n",
       "<caption>Logit Regression Results</caption>\n",
       "<tr>\n",
       "  <th>Dep. Variable:</th>        <td>Quality</td>     <th>  No. Observations:  </th>  <td>  5351</td> \n",
       "</tr>\n",
       "<tr>\n",
       "  <th>Model:</th>                 <td>Logit</td>      <th>  Df Residuals:      </th>  <td>  5343</td> \n",
       "</tr>\n",
       "<tr>\n",
       "  <th>Method:</th>                 <td>MLE</td>       <th>  Df Model:          </th>  <td>     7</td> \n",
       "</tr>\n",
       "<tr>\n",
       "  <th>Date:</th>            <td>Mon, 18 Mar 2024</td> <th>  Pseudo R-squ.:     </th>  <td>0.5790</td> \n",
       "</tr>\n",
       "<tr>\n",
       "  <th>Time:</th>                <td>18:37:36</td>     <th>  Log-Likelihood:    </th> <td> -1561.1</td>\n",
       "</tr>\n",
       "<tr>\n",
       "  <th>converged:</th>             <td>True</td>       <th>  LL-Null:           </th> <td> -3707.8</td>\n",
       "</tr>\n",
       "<tr>\n",
       "  <th>Covariance Type:</th>     <td>nonrobust</td>    <th>  LLR p-value:       </th>  <td> 0.000</td> \n",
       "</tr>\n",
       "</table>\n",
       "<table class=\"simpletable\">\n",
       "<tr>\n",
       "       <td></td>          <th>coef</th>     <th>std err</th>      <th>z</th>      <th>P>|z|</th>  <th>[0.025</th>    <th>0.975]</th>  \n",
       "</tr>\n",
       "<tr>\n",
       "  <th>const</th>       <td>    1.6542</td> <td>    0.078</td> <td>   21.161</td> <td> 0.000</td> <td>    1.501</td> <td>    1.807</td>\n",
       "</tr>\n",
       "<tr>\n",
       "  <th>Size</th>        <td>    0.6863</td> <td>    0.031</td> <td>   21.827</td> <td> 0.000</td> <td>    0.625</td> <td>    0.748</td>\n",
       "</tr>\n",
       "<tr>\n",
       "  <th>Weight</th>      <td>    1.0085</td> <td>    0.038</td> <td>   26.363</td> <td> 0.000</td> <td>    0.934</td> <td>    1.083</td>\n",
       "</tr>\n",
       "<tr>\n",
       "  <th>Sweetness</th>   <td>    0.7484</td> <td>    0.034</td> <td>   21.844</td> <td> 0.000</td> <td>    0.681</td> <td>    0.816</td>\n",
       "</tr>\n",
       "<tr>\n",
       "  <th>Softness</th>    <td>    0.0880</td> <td>    0.024</td> <td>    3.661</td> <td> 0.000</td> <td>    0.041</td> <td>    0.135</td>\n",
       "</tr>\n",
       "<tr>\n",
       "  <th>HarvestTime</th> <td>    0.5735</td> <td>    0.033</td> <td>   17.408</td> <td> 0.000</td> <td>    0.509</td> <td>    0.638</td>\n",
       "</tr>\n",
       "<tr>\n",
       "  <th>Ripeness</th>    <td>    0.6164</td> <td>    0.031</td> <td>   19.737</td> <td> 0.000</td> <td>    0.555</td> <td>    0.678</td>\n",
       "</tr>\n",
       "<tr>\n",
       "  <th>Acidity</th>     <td>   -0.0948</td> <td>    0.024</td> <td>   -3.912</td> <td> 0.000</td> <td>   -0.142</td> <td>   -0.047</td>\n",
       "</tr>\n",
       "</table>"
      ],
      "text/latex": [
       "\\begin{center}\n",
       "\\begin{tabular}{lclc}\n",
       "\\toprule\n",
       "\\textbf{Dep. Variable:}   &     Quality      & \\textbf{  No. Observations:  } &     5351    \\\\\n",
       "\\textbf{Model:}           &      Logit       & \\textbf{  Df Residuals:      } &     5343    \\\\\n",
       "\\textbf{Method:}          &       MLE        & \\textbf{  Df Model:          } &        7    \\\\\n",
       "\\textbf{Date:}            & Mon, 18 Mar 2024 & \\textbf{  Pseudo R-squ.:     } &   0.5790    \\\\\n",
       "\\textbf{Time:}            &     18:37:36     & \\textbf{  Log-Likelihood:    } &   -1561.1   \\\\\n",
       "\\textbf{converged:}       &       True       & \\textbf{  LL-Null:           } &   -3707.8   \\\\\n",
       "\\textbf{Covariance Type:} &    nonrobust     & \\textbf{  LLR p-value:       } &    0.000    \\\\\n",
       "\\bottomrule\n",
       "\\end{tabular}\n",
       "\\begin{tabular}{lcccccc}\n",
       "                     & \\textbf{coef} & \\textbf{std err} & \\textbf{z} & \\textbf{P$> |$z$|$} & \\textbf{[0.025} & \\textbf{0.975]}  \\\\\n",
       "\\midrule\n",
       "\\textbf{const}       &       1.6542  &        0.078     &    21.161  &         0.000        &        1.501    &        1.807     \\\\\n",
       "\\textbf{Size}        &       0.6863  &        0.031     &    21.827  &         0.000        &        0.625    &        0.748     \\\\\n",
       "\\textbf{Weight}      &       1.0085  &        0.038     &    26.363  &         0.000        &        0.934    &        1.083     \\\\\n",
       "\\textbf{Sweetness}   &       0.7484  &        0.034     &    21.844  &         0.000        &        0.681    &        0.816     \\\\\n",
       "\\textbf{Softness}    &       0.0880  &        0.024     &     3.661  &         0.000        &        0.041    &        0.135     \\\\\n",
       "\\textbf{HarvestTime} &       0.5735  &        0.033     &    17.408  &         0.000        &        0.509    &        0.638     \\\\\n",
       "\\textbf{Ripeness}    &       0.6164  &        0.031     &    19.737  &         0.000        &        0.555    &        0.678     \\\\\n",
       "\\textbf{Acidity}     &      -0.0948  &        0.024     &    -3.912  &         0.000        &       -0.142    &       -0.047     \\\\\n",
       "\\bottomrule\n",
       "\\end{tabular}\n",
       "%\\caption{Logit Regression Results}\n",
       "\\end{center}"
      ],
      "text/plain": [
       "<class 'statsmodels.iolib.summary.Summary'>\n",
       "\"\"\"\n",
       "                           Logit Regression Results                           \n",
       "==============================================================================\n",
       "Dep. Variable:                Quality   No. Observations:                 5351\n",
       "Model:                          Logit   Df Residuals:                     5343\n",
       "Method:                           MLE   Df Model:                            7\n",
       "Date:                Mon, 18 Mar 2024   Pseudo R-squ.:                  0.5790\n",
       "Time:                        18:37:36   Log-Likelihood:                -1561.1\n",
       "converged:                       True   LL-Null:                       -3707.8\n",
       "Covariance Type:            nonrobust   LLR p-value:                     0.000\n",
       "===============================================================================\n",
       "                  coef    std err          z      P>|z|      [0.025      0.975]\n",
       "-------------------------------------------------------------------------------\n",
       "const           1.6542      0.078     21.161      0.000       1.501       1.807\n",
       "Size            0.6863      0.031     21.827      0.000       0.625       0.748\n",
       "Weight          1.0085      0.038     26.363      0.000       0.934       1.083\n",
       "Sweetness       0.7484      0.034     21.844      0.000       0.681       0.816\n",
       "Softness        0.0880      0.024      3.661      0.000       0.041       0.135\n",
       "HarvestTime     0.5735      0.033     17.408      0.000       0.509       0.638\n",
       "Ripeness        0.6164      0.031     19.737      0.000       0.555       0.678\n",
       "Acidity        -0.0948      0.024     -3.912      0.000      -0.142      -0.047\n",
       "===============================================================================\n",
       "\"\"\""
      ]
     },
     "execution_count": 63,
     "metadata": {},
     "output_type": "execute_result"
    }
   ],
   "source": [
    " # fit the base model \n",
    "base_model = sma.Logit(y_train,sma.add_constant(x_train)).fit()\n",
    "base_model.summary()"
   ]
  },
  {
   "cell_type": "code",
   "execution_count": 65,
   "id": "a90a9573",
   "metadata": {},
   "outputs": [
    {
     "data": {
      "text/plain": [
       "Weight         3.612560e-153\n",
       "Sweetness      8.947099e-106\n",
       "Size           1.272542e-105\n",
       "const           2.200189e-99\n",
       "Ripeness        1.029615e-86\n",
       "HarvestTime     7.169623e-68\n",
       "Acidity         9.162302e-05\n",
       "Softness        2.517061e-04\n",
       "dtype: float64"
      ]
     },
     "execution_count": 65,
     "metadata": {},
     "output_type": "execute_result"
    }
   ],
   "source": [
    "base_model.pvalues[base_model.pvalues<0.5].sort_values()"
   ]
  },
  {
   "cell_type": "markdown",
   "id": "274d5cec",
   "metadata": {},
   "source": [
    "\n",
    "All the features are significant to decide the quality of banana."
   ]
  },
  {
   "cell_type": "code",
   "execution_count": 66,
   "id": "3595c153",
   "metadata": {},
   "outputs": [
    {
     "data": {
      "text/plain": [
       "4061    0.695228\n",
       "7368    0.440515\n",
       "6421    0.180845\n",
       "907     0.976123\n",
       "4035    0.964549\n",
       "          ...   \n",
       "6140    0.003888\n",
       "7349    0.621701\n",
       "1529    0.998451\n",
       "1017    0.989963\n",
       "5301    0.991517\n",
       "Length: 2294, dtype: float64"
      ]
     },
     "execution_count": 66,
     "metadata": {},
     "output_type": "execute_result"
    }
   ],
   "source": [
    "prob = base_model.predict(sma.add_constant(x_test))\n",
    "prob"
   ]
  },
  {
   "cell_type": "code",
   "execution_count": 69,
   "id": "b7cdc208",
   "metadata": {},
   "outputs": [],
   "source": [
    "from sklearn.metrics import classification_report,confusion_matrix,roc_auc_score,accuracy_score"
   ]
  },
  {
   "cell_type": "code",
   "execution_count": 68,
   "id": "7e003627",
   "metadata": {},
   "outputs": [],
   "source": [
    "pred = np.where(prob>0.5,1,0)"
   ]
  },
  {
   "cell_type": "code",
   "execution_count": 70,
   "id": "d4a6a90b",
   "metadata": {},
   "outputs": [
    {
     "name": "stdout",
     "output_type": "stream",
     "text": [
      "Accuracy: 0.8696599825632084\n"
     ]
    }
   ],
   "source": [
    "print('Accuracy:',accuracy_score(y_test,pred))"
   ]
  },
  {
   "cell_type": "code",
   "execution_count": 71,
   "id": "c7250bbb",
   "metadata": {},
   "outputs": [
    {
     "name": "stdout",
     "output_type": "stream",
     "text": [
      "Classification Report:               precision    recall  f1-score   support\n",
      "\n",
      "           0       0.88      0.87      0.87      1185\n",
      "           1       0.86      0.87      0.87      1109\n",
      "\n",
      "    accuracy                           0.87      2294\n",
      "   macro avg       0.87      0.87      0.87      2294\n",
      "weighted avg       0.87      0.87      0.87      2294\n",
      "\n"
     ]
    }
   ],
   "source": [
    "print('Classification Report:',classification_report(y_test,pred))"
   ]
  },
  {
   "cell_type": "code",
   "execution_count": 72,
   "id": "4f9d5db6",
   "metadata": {},
   "outputs": [
    {
     "name": "stdout",
     "output_type": "stream",
     "text": [
      "Confusion Matrix: [[1030  155]\n",
      " [ 144  965]]\n"
     ]
    }
   ],
   "source": [
    "print('Confusion Matrix:',confusion_matrix(y_test,pred))"
   ]
  },
  {
   "cell_type": "markdown",
   "id": "f9c9ec2a",
   "metadata": {},
   "source": [
    "Inferences : Model is significant with accuracy 87%."
   ]
  },
  {
   "cell_type": "code",
   "execution_count": null,
   "id": "a55f5049",
   "metadata": {},
   "outputs": [],
   "source": []
  }
 ],
 "metadata": {
  "kernelspec": {
   "display_name": "Python 3 (ipykernel)",
   "language": "python",
   "name": "python3"
  },
  "language_info": {
   "codemirror_mode": {
    "name": "ipython",
    "version": 3
   },
   "file_extension": ".py",
   "mimetype": "text/x-python",
   "name": "python",
   "nbconvert_exporter": "python",
   "pygments_lexer": "ipython3",
   "version": "3.11.4"
  }
 },
 "nbformat": 4,
 "nbformat_minor": 5
}
